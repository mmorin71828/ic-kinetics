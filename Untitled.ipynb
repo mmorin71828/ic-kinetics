{
 "cells": [
  {
   "cell_type": "code",
   "execution_count": 1,
   "metadata": {},
   "outputs": [],
   "source": [
    "import pandas as pd"
   ]
  },
  {
   "cell_type": "code",
   "execution_count": 31,
   "metadata": {},
   "outputs": [],
   "source": [
    "df = pd.read_csv('db/test.csv', sep='\\t', header=0)\n",
    "\n",
    "selectivity = 'Na'\n",
    "isoform = 'Kv 1.3'\n",
    "mutant = 'WT',\n",
    "new_res = None\n",
    "inact_v50 = -10\n",
    "act_v50 = 2\n",
    "inact_time = 10\n",
    "act_time = 5\n",
    "\n",
    "new_row = {'selectivity':selectivity, 'isoform':isoform, 'mutant':mutant, 'new_residue':new_res, 'act_v50': act_v50,\n",
    "               'act_time':act_time, 'inact_v50':inact_v50, 'inact_time':inact_time}\n",
    "test = pd.DataFrame(new_row)\n",
    "#df.append(test)\n",
    "test\n",
    "#df =  pd.read_csv('db/test.csv', sep='\\t', header=0)\n",
    "new_df = df.append(test)\n",
    "new_df.to_csv('db/test2.csv', sep='\\t')\n",
    "#df"
   ]
  },
  {
   "cell_type": "code",
   "execution_count": null,
   "metadata": {},
   "outputs": [],
   "source": []
  }
 ],
 "metadata": {
  "kernelspec": {
   "display_name": "Python 3",
   "language": "python",
   "name": "python3"
  },
  "language_info": {
   "codemirror_mode": {
    "name": "ipython",
    "version": 3
   },
   "file_extension": ".py",
   "mimetype": "text/x-python",
   "name": "python",
   "nbconvert_exporter": "python",
   "pygments_lexer": "ipython3",
   "version": "3.8.3"
  }
 },
 "nbformat": 4,
 "nbformat_minor": 4
}
