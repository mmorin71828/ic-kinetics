{
 "cells": [
  {
   "cell_type": "code",
   "execution_count": 1,
   "metadata": {},
   "outputs": [],
   "source": [
    "import pandas as pd"
   ]
  },
  {
   "cell_type": "code",
   "execution_count": 30,
   "metadata": {},
   "outputs": [
    {
     "data": {
      "text/html": [
       "<div>\n",
       "<style scoped>\n",
       "    .dataframe tbody tr th:only-of-type {\n",
       "        vertical-align: middle;\n",
       "    }\n",
       "\n",
       "    .dataframe tbody tr th {\n",
       "        vertical-align: top;\n",
       "    }\n",
       "\n",
       "    .dataframe thead th {\n",
       "        text-align: right;\n",
       "    }\n",
       "</style>\n",
       "<table border=\"1\" class=\"dataframe\">\n",
       "  <thead>\n",
       "    <tr style=\"text-align: right;\">\n",
       "      <th></th>\n",
       "      <th>selectivity</th>\n",
       "      <th>isoform</th>\n",
       "      <th>mutant</th>\n",
       "      <th>new_residue</th>\n",
       "      <th>act_v50</th>\n",
       "      <th>act_time</th>\n",
       "      <th>inact_v50</th>\n",
       "      <th>inact_time</th>\n",
       "    </tr>\n",
       "  </thead>\n",
       "  <tbody>\n",
       "    <tr>\n",
       "      <th>0</th>\n",
       "      <td>K+</td>\n",
       "      <td>Kv 1.2</td>\n",
       "      <td>WT</td>\n",
       "      <td>NaN</td>\n",
       "      <td>-50</td>\n",
       "      <td>10</td>\n",
       "      <td>10</td>\n",
       "      <td>100</td>\n",
       "    </tr>\n",
       "    <tr>\n",
       "      <th>0</th>\n",
       "      <td>Na</td>\n",
       "      <td>Kv 1.3</td>\n",
       "      <td>WT</td>\n",
       "      <td>None</td>\n",
       "      <td>2</td>\n",
       "      <td>5</td>\n",
       "      <td>-10</td>\n",
       "      <td>10</td>\n",
       "    </tr>\n",
       "  </tbody>\n",
       "</table>\n",
       "</div>"
      ],
      "text/plain": [
       "  selectivity isoform mutant new_residue  act_v50  act_time  inact_v50  \\\n",
       "0          K+  Kv 1.2     WT         NaN      -50        10         10   \n",
       "0          Na  Kv 1.3     WT        None        2         5        -10   \n",
       "\n",
       "   inact_time  \n",
       "0         100  \n",
       "0          10  "
      ]
     },
     "execution_count": 30,
     "metadata": {},
     "output_type": "execute_result"
    }
   ],
   "source": [
    "df = pd.read_csv('db/test.csv', sep='\\t', header=0)\n",
    "\n",
    "selectivity = 'Na'\n",
    "isoform = 'Kv 1.3'\n",
    "mutant = 'WT',\n",
    "new_res = None\n",
    "inact_v50 = -10\n",
    "act_v50 = 2\n",
    "inact_time = 10\n",
    "act_time = 5\n",
    "\n",
    "new_row = {'selectivity':selectivity, 'isoform':isoform, 'mutant':mutant, 'new_residue':new_res, 'act_v50': act_v50,\n",
    "               'act_time':act_time, 'inact_v50':inact_v50, 'inact_time':inact_time}\n",
    "test = pd.DataFrame(new_row)\n",
    "#df.append(test)\n",
    "test\n",
    "#df =  pd.read_csv('db/test.csv', sep='\\t', header=0)\n",
    "new_df = df.append(test)\n",
    "new_df.to_csv('db/test2.csv', sep='\\t')\n",
    "#df"
   ]
  },
  {
   "cell_type": "code",
   "execution_count": null,
   "metadata": {},
   "outputs": [],
   "source": []
  }
 ],
 "metadata": {
  "kernelspec": {
   "display_name": "Python 3",
   "language": "python",
   "name": "python3"
  },
  "language_info": {
   "codemirror_mode": {
    "name": "ipython",
    "version": 3
   },
   "file_extension": ".py",
   "mimetype": "text/x-python",
   "name": "python",
   "nbconvert_exporter": "python",
   "pygments_lexer": "ipython3",
   "version": "3.8.3"
  }
 },
 "nbformat": 4,
 "nbformat_minor": 4
}
